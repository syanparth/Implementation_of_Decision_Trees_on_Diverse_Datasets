{
  "cells": [
    {
      "cell_type": "markdown",
      "metadata": {
        "id": "LWvXnwm6lxiJ"
      },
      "source": [
        "# **Decision Tree Example**"
      ]
    },
    {
      "cell_type": "code",
      "execution_count": 1,
      "metadata": {
        "id": "tm-gsl--MRsz"
      },
      "outputs": [],
      "source": [
        "# Importing the required packages\n",
        "import numpy as np\n",
        "import pandas as pd\n",
        "from sklearn.metrics import confusion_matrix, accuracy_score, classification_report\n",
        "from sklearn.model_selection import train_test_split\n",
        "from sklearn.tree import DecisionTreeClassifier\n",
        "import matplotlib.pyplot as plt\n"
      ]
    },
    {
      "cell_type": "code",
      "execution_count": 2,
      "metadata": {
        "colab": {
          "base_uri": "https://localhost:8080/"
        },
        "id": "ekzzUUv2MXeT",
        "outputId": "50b11178-31c6-4e21-9dd5-103399e75158"
      },
      "outputs": [
        {
          "name": "stdout",
          "output_type": "stream",
          "text": [
            "   cgpa  resume_score  package  placed\n",
            "0     8             8        4       1\n",
            "1     7             9        5       0\n",
            "2     6            10        6       1\n",
            "3     5            12        7       1\n"
          ]
        }
      ],
      "source": [
        "df = pd.DataFrame([[8,8,4,1],[7,9,5,0],[6,10,6,1],[5,12,7,1]], columns=['cgpa', 'resume_score','package', 'placed'])\n",
        "print(df)"
      ]
    },
    {
      "cell_type": "code",
      "execution_count": 3,
      "metadata": {
        "id": "aoCy-CwAMnpZ"
      },
      "outputs": [],
      "source": [
        "# Function to split the dataset into features and target variables\n",
        "def splitdataset(df):\n",
        "\n",
        "    # Separating the target variable\n",
        "    X = df.iloc[:,0:3]\n",
        "    Y = df.iloc[:,-1]\n",
        "\n",
        "    # Splitting the dataset into train and test\n",
        "    X_train, X_test, y_train, y_test = train_test_split(\n",
        "        X, Y, test_size=0.3, random_state=100)\n",
        "\n",
        "    return X, Y, X_train, X_test, y_train, y_test"
      ]
    },
    {
      "cell_type": "code",
      "execution_count": 4,
      "metadata": {
        "id": "Ujwkshv-PJV5"
      },
      "outputs": [],
      "source": [
        "def train_using_entropy(X_train, X_test, y_train):\n",
        "\n",
        "    # Decision tree with entropy\n",
        "    clf_entropy = DecisionTreeClassifier(\n",
        "        criterion=\"entropy\", random_state=100,\n",
        "        max_depth=3, min_samples_leaf=5)\n",
        "\n",
        "    # Performing training\n",
        "    clf_entropy.fit(X_train, y_train)\n",
        "    return clf_entropy\n"
      ]
    },
    {
      "cell_type": "code",
      "execution_count": 5,
      "metadata": {
        "id": "yfMfEs1FPRLw"
      },
      "outputs": [],
      "source": [
        "# Function to make predictions\n",
        "def prediction(X_test, clf_object):\n",
        "    y_pred = clf_object.predict(X_test)\n",
        "    print(\"Predicted values:\")\n",
        "    print(y_pred)\n",
        "    return y_pred\n",
        "\n",
        "# Placeholder function for cal_accuracy\n",
        "def cal_accuracy(y_test, y_pred):\n",
        "    print(\"Confusion Matrix: \",\n",
        "          confusion_matrix(y_test, y_pred))\n",
        "    print(\"Accuracy : \",\n",
        "          accuracy_score(y_test, y_pred)*100)\n",
        "    print(\"Report : \",\n",
        "          classification_report(y_test, y_pred))\n"
      ]
    },
    {
      "cell_type": "code",
      "execution_count": 7,
      "metadata": {
        "colab": {
          "base_uri": "https://localhost:8080/"
        },
        "id": "uEDQwxebPfsa",
        "outputId": "448b3a1c-b4b0-457a-cdd8-8fa3628c773c"
      },
      "outputs": [
        {
          "name": "stdout",
          "output_type": "stream",
          "text": [
            "Predicted values:\n",
            "[1 1]\n",
            "Confusion Matrix:  [[0 1]\n",
            " [0 1]]\n",
            "Accuracy :  50.0\n",
            "Report :                precision    recall  f1-score   support\n",
            "\n",
            "           0       0.00      0.00      0.00         1\n",
            "           1       0.50      1.00      0.67         1\n",
            "\n",
            "    accuracy                           0.50         2\n",
            "   macro avg       0.25      0.50      0.33         2\n",
            "weighted avg       0.25      0.50      0.33         2\n",
            "\n"
          ]
        },
        {
          "name": "stderr",
          "output_type": "stream",
          "text": [
            "/usr/local/lib/python3.10/dist-packages/sklearn/metrics/_classification.py:1471: UndefinedMetricWarning: Precision and F-score are ill-defined and being set to 0.0 in labels with no predicted samples. Use `zero_division` parameter to control this behavior.\n",
            "  _warn_prf(average, modifier, msg_start, len(result))\n",
            "/usr/local/lib/python3.10/dist-packages/sklearn/metrics/_classification.py:1471: UndefinedMetricWarning: Precision and F-score are ill-defined and being set to 0.0 in labels with no predicted samples. Use `zero_division` parameter to control this behavior.\n",
            "  _warn_prf(average, modifier, msg_start, len(result))\n",
            "/usr/local/lib/python3.10/dist-packages/sklearn/metrics/_classification.py:1471: UndefinedMetricWarning: Precision and F-score are ill-defined and being set to 0.0 in labels with no predicted samples. Use `zero_division` parameter to control this behavior.\n",
            "  _warn_prf(average, modifier, msg_start, len(result))\n"
          ]
        }
      ],
      "source": [
        "from sklearn import tree\n",
        "# Function to plot the decision tree\n",
        "def plot_decision_tree(clf_object, feature_names, class_names):\n",
        "    plt.figure(figsize=(15, 10))\n",
        "    plot_tree(clf_object, filled=True, feature_names=feature_names, class_names=class_names, rounded=True)\n",
        "    plt.show()\n",
        "if __name__ == \"__main__\":\n",
        "    X, Y, X_train, X_test, y_train, y_test = splitdataset(df)\n",
        "    clf_entropy = train_using_entropy(X_train, X_test, y_train)\n",
        "    y_pred = prediction(X_test, clf_entropy)\n",
        "    cal_accuracy(y_test, y_pred)\n",
        "\n"
      ]
    }
  ],
  "metadata": {
    "colab": {
      "cell_execution_strategy": "setup",
      "provenance": []
    },
    "kernelspec": {
      "display_name": "Python 3",
      "name": "python3"
    },
    "language_info": {
      "name": "python"
    }
  },
  "nbformat": 4,
  "nbformat_minor": 0
}
